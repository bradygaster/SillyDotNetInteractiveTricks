{
 "cells": [
  {
   "cell_type": "code",
   "execution_count": 32,
   "metadata": {},
   "outputs": [],
   "source": [
    "using System.Collections.Generic;"
   ]
  },
  {
   "cell_type": "code",
   "execution_count": 33,
   "metadata": {},
   "outputs": [],
   "source": [
    "public enum Suit : int\n",
    "{\n",
    "    None = 0,\n",
    "    Hearts = 1,\n",
    "    Clubs = 2,\n",
    "    Diamonds = 3,\n",
    "    Spades = 4\n",
    "}"
   ]
  },
  {
   "cell_type": "code",
   "execution_count": 34,
   "metadata": {},
   "outputs": [],
   "source": [
    "public enum Face : int\n",
    "{\n",
    "    LowJoker = -1,\n",
    "    HighJoker = 0,\n",
    "    Ace = 1,\n",
    "    Two = 2,\n",
    "    Three = 3,\n",
    "    Four = 4,\n",
    "    Five = 5,\n",
    "    Six = 6,\n",
    "    Seven = 7,\n",
    "    Eight = 8,\n",
    "    Nine = 9,\n",
    "    Ten = 10,\n",
    "    Jack = 11,\n",
    "    Queen = 12,\n",
    "    King = 13\n",
    "}"
   ]
  },
  {
   "cell_type": "code",
   "execution_count": 35,
   "metadata": {},
   "outputs": [],
   "source": [
    "public class Card\n",
    "{\n",
    "    public Suit Suit { get; set; }\n",
    "    public Face Face { get; set; }\n",
    "}"
   ]
  },
  {
   "cell_type": "code",
   "execution_count": 36,
   "metadata": {},
   "outputs": [],
   "source": [
    "public class Deck\n",
    "{\n",
    "    public Deck()\n",
    "    {\n",
    "        this.Cards = new List<Card>();       \n",
    "    }\n",
    "\n",
    "    public List<Card> Cards { get; private set; }\n",
    "}"
   ]
  },
  {
   "cell_type": "code",
   "execution_count": 37,
   "metadata": {},
   "outputs": [],
   "source": [
    "Deck BuildDeck(bool excludeJokers = false)\n",
    "{\n",
    "    var deck = new Deck();\n",
    "    for (int i = 1; i <= 4; i++)\n",
    "    {\n",
    "        for (int x = 1; x <= 13; x++)\n",
    "        {\n",
    "            deck.Cards.Add(new Card\n",
    "            {\n",
    "                Suit = (Suit)i,\n",
    "                Face = (Face)x\n",
    "            });\n",
    "        }\n",
    "    }\n",
    "\n",
    "    if (!excludeJokers)\n",
    "    {\n",
    "        deck.Cards.AddRange(new[] {\n",
    "            new Card { Face = Face.LowJoker, Suit = Suit.None },\n",
    "            new Card { Face = Face.HighJoker, Suit = Suit.None }\n",
    "        });\n",
    "    }\n",
    "    \n",
    "    return deck;\n",
    "}"
   ]
  },
  {
   "cell_type": "code",
   "execution_count": 38,
   "metadata": {},
   "outputs": [],
   "source": [
    "Deck deck = BuildDeck();"
   ]
  },
  {
   "cell_type": "code",
   "execution_count": null,
   "metadata": {},
   "outputs": [],
   "source": [
    "deck"
   ]
  },
  {
   "cell_type": "code",
   "execution_count": 27,
   "metadata": {},
   "outputs": [],
   "source": [
    "Formatter<Deck>.Register((deck, writer) =>\n",
    "{\n",
    "    PocketView v = div(deck.Cards.Select(c =>\n",
    "    {\n",
    "        var face = Enum.GetName(typeof(Face), c.Face);\n",
    "        var suit = Enum.GetName(typeof(Suit), c.Suit);\n",
    "        return img[src:$\"https://dotnetcards.azureedge.net/cards/{suit}{face}.png\", width:256]();\n",
    "    }));\n",
    "    writer.Write(v);\n",
    "}, \"text/html\");"
   ]
  },
  {
   "cell_type": "code",
   "execution_count": null,
   "metadata": {},
   "outputs": [],
   "source": [
    "deck"
   ]
  }
 ],
 "metadata": {
  "kernelspec": {
   "display_name": ".NET (C#)",
   "language": "C#",
   "name": ".net-csharp"
  },
  "language_info": {
   "file_extension": ".cs",
   "mimetype": "text/x-csharp",
   "name": "C#",
   "pygments_lexer": "csharp",
   "version": "8.0"
  }
 },
 "nbformat": 4,
 "nbformat_minor": 4
}
